{
 "cells": [
  {
   "cell_type": "code",
   "execution_count": 8,
   "metadata": {},
   "outputs": [],
   "source": [
    "from random import sample\n",
    "from fpylll import *\n",
    "#parameter\n",
    "\n",
    "N = 13;p=3;q =127 ;d=5 ;# q > p(6d+1) prime # p>2 prime gcd(N,q)=gcd(p,q)=1\n",
    "R.<x> = ZZ['x']"
   ]
  },
  {
   "cell_type": "code",
   "execution_count": 9,
   "metadata": {},
   "outputs": [],
   "source": [
    "def random_poly(o,mo):\n",
    " \n",
    "    s=[1]*o+[-1]*mo+[0]*(N-o-mo)\n",
    "    shuffle(s)\n",
    "    return R(s)\n",
    "\n",
    "def Convolution_in_R(ff,gg,NN):\n",
    "    return (ff*gg)%(x^NN-1)\n",
    "\n",
    "def Convolution_in_R_p(ff,gg,NN,pp):\n",
    "    hh =ff*gg\n",
    "    T = R.change_ring(Integers(pp)).quotient(x^NN-1)\n",
    "    return  R(lift(T(hh)))  \n",
    "\n",
    "def Invertmodprime(ff,pp,NN):    \n",
    "    T = R.change_ring(Integers(pp)).quotient(x^NN-1)\n",
    "    return R(lift(1/T(ff)))\n",
    "\n",
    "def center_lift(ff,pp):\n",
    "    flist = ff.list()\n",
    "    ph = pp//2\n",
    "    for i in range(len(flist)):\n",
    "        tmp = int(flist[i])%pp\n",
    "        if tmp > ph:\n",
    "            tmp -= pp\n",
    "        flist[i] = tmp\n",
    "    return R(flist)\n",
    "\n",
    "def keygen():\n",
    "    f = random_poly(d+1,d)\n",
    "    g = random_poly(d,d)\n",
    "    try :\n",
    "        fq = Invertmodprime(f,q,N)\n",
    "    except:\n",
    "        raise Exception\n",
    "    h = Convolution_in_R_p(fq,g,N,q)\n",
    "    return h,f,g\n",
    "\n",
    "def enc(m):\n",
    "    phi = random_poly(d,d)\n",
    "    e_q = Convolution_in_R_p(h,p*phi,N,q)\n",
    "    e = e_q + m\n",
    "    return e%q\n",
    "    \n",
    "def dec(e_q,ff):\n",
    "    a = Convolution_in_R_p(ff,e_q,N,q)\n",
    "    a_c = center_lift(a,q)\n",
    "    fp = Invertmodprime(ff,p,N)\n",
    "    b = Convolution_in_R_p(a_c,fp,N,p)\n",
    "    b = center_lift(b,p)\n",
    "    return b\n"
   ]
  },
  {
   "cell_type": "code",
   "execution_count": 10,
   "metadata": {},
   "outputs": [
    {
     "name": "stdout",
     "output_type": "stream",
     "text": [
      "OK\n",
      "m is : x^12 + x^10 - x^8 + x^7 + x^5 + x^3 + x + 1\n",
      "e is : 57*x^12 + 33*x^11 + 87*x^10 + 6*x^9 + 80*x^8 + 19*x^7 + 121*x^6 + 33*x^5 + 91*x^4 + 3*x^3 + 3*x^2 + 89*x + 19\n",
      "f is : -x^12 + x^11 - x^10 + x^8 - x^7 + x^6 - x^5 + x^4 - x^3 + x + 1\n",
      "d is : x^12 + x^10 - x^8 + x^7 + x^5 + x^3 + x + 1\n"
     ]
    }
   ],
   "source": [
    "h,f,g = keygen()\n",
    "m = R([randint(-(p-1)/2,(p-1)/2) for i in range(N)])\n",
    "e = enc(m)\n",
    "dec_m = dec(e,f)\n",
    "if dec_m == m:\n",
    "    print(\"OK\")\n",
    "    print(\"m is :\",m)\n",
    "    print(\"e is :\",e)\n",
    "    print(\"f is :\",f)\n",
    "    print(\"d is :\",dec_m)\n",
    "else:\n",
    "    print(m)\n",
    "    print(e)\n",
    "    print(\"Error\")\n"
   ]
  },
  {
   "cell_type": "code",
   "execution_count": 15,
   "metadata": {},
   "outputs": [],
   "source": [
    "#Lattice attack\n",
    "\n",
    "def NTRU_matrix(hh,qq,NN):\n",
    "    H = Matrix(ZZ,NN,NN)\n",
    "    for i in range(NN):\n",
    "        for j in range(NN):\n",
    "            H[i,j] = hh[j]\n",
    "        hh*=x\n",
    "        hh = hh%(x^NN -1)\n",
    "    \n",
    "    NTRU_B = Matrix(ZZ,2*NN,2*NN)\n",
    "    for i in range(NN):\n",
    "        NTRU_B[i,i] = 1\n",
    "        NTRU_B[i+NN,i+NN] = qq\n",
    "        for j in range(NN):\n",
    "            NTRU_B[i,j+NN] = H[i,j]\n",
    "    return NTRU_B\n",
    "\n",
    "def L_LLL(B):\n",
    "    B = B. LLL ()\n",
    "    return B\n",
    " \n",
    "\n",
    "\n",
    "\n",
    "def NTRU_lattice_attack(LL,dd,hh,NN):\n",
    "    for i in range(NN):\n",
    "        G = [0]*N;sum_b=0;flag = True;\n",
    "        for j in range(NN):\n",
    "            G[j] = LL[i,j+NN]\n",
    "            if abs(G[j]) <= 1: #ノルム\n",
    "                sum_b += abs(G[j])\n",
    "            else:\n",
    "                flag = False\n",
    "        if flag and sum_b == 2*dd:\n",
    "            F = [0]*NN\n",
    "            for k in range(NN):\n",
    "                F[k] = LL[i,k]\n",
    "            f_atk = R(F);g_atk=R(G);\n",
    "            \n",
    "            if center_lift(Convolution_in_R_p(f_atk,hh,NN,q),q) == g_atk:\n",
    "                print(\"f_atk:\"+str(f_atk))\n",
    "                return True,f_atk,g_atk\n",
    "            \n",
    "    return False,0,0\n",
    "            "
   ]
  },
  {
   "cell_type": "code",
   "execution_count": 16,
   "metadata": {},
   "outputs": [
    {
     "name": "stdout",
     "output_type": "stream",
     "text": [
      "f_atk:-x^12 + x^11 - x^10 + x^9 - x^7 + x^6 - x^5 + x^4 - x^3 + x^2 - 1\n",
      "TRUE!!\n",
      "dec_m :x^12 + x^10 - x^8 + x^7 + x^5 + x^3 + x + 1\n"
     ]
    }
   ],
   "source": [
    "BB = NTRU_matrix(h,q,N)\n",
    "L = L_LLL(BB)\n",
    "flag,f_atk,g_atk = NTRU_lattice_attack(L,d,h,N)\n",
    "if flag:\n",
    "    atk_m = dec(e,f_atk)\n",
    "    if m == atk_m:\n",
    "        print(\"TRUE!!\")\n",
    "        print(\"dec_m :\"+str(atk_m))\n",
    "else:\n",
    "    print(\"FALSE!!\")"
   ]
  },
  {
   "cell_type": "code",
   "execution_count": null,
   "metadata": {},
   "outputs": [],
   "source": []
  },
  {
   "cell_type": "code",
   "execution_count": null,
   "metadata": {},
   "outputs": [],
   "source": []
  }
 ],
 "metadata": {
  "kernelspec": {
   "display_name": "SageMath 9.3",
   "language": "sage",
   "name": "sagemath"
  },
  "language_info": {
   "codemirror_mode": {
    "name": "ipython",
    "version": 3
   },
   "file_extension": ".py",
   "mimetype": "text/x-python",
   "name": "python",
   "nbconvert_exporter": "python",
   "pygments_lexer": "ipython3",
   "version": "3.7.10"
  }
 },
 "nbformat": 4,
 "nbformat_minor": 4
}
